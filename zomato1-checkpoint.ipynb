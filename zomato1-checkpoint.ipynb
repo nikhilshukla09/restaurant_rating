{
 "cells": [
  {
   "cell_type": "code",
   "execution_count": 1,
   "id": "b3836ae1-7bf8-4752-8752-1c0997dbfb7b",
   "metadata": {},
   "outputs": [
    {
     "ename": "FileNotFoundError",
     "evalue": "[Errno 2] No such file or directory: 'restaurant_rating_model.pkl'",
     "output_type": "error",
     "traceback": [
      "\u001b[1;31m---------------------------------------------------------------------------\u001b[0m",
      "\u001b[1;31mFileNotFoundError\u001b[0m                         Traceback (most recent call last)",
      "Cell \u001b[1;32mIn[1], line 6\u001b[0m\n\u001b[0;32m      4\u001b[0m \u001b[38;5;66;03m# Load your pre-trained model\u001b[39;00m\n\u001b[0;32m      5\u001b[0m model_filename \u001b[38;5;241m=\u001b[39m \u001b[38;5;124m\"\u001b[39m\u001b[38;5;124mrestaurant_rating_model.pkl\u001b[39m\u001b[38;5;124m\"\u001b[39m\n\u001b[1;32m----> 6\u001b[0m model \u001b[38;5;241m=\u001b[39m joblib\u001b[38;5;241m.\u001b[39mload(model_filename)\n\u001b[0;32m      7\u001b[0m \u001b[38;5;66;03m# print(\"Model loaded from\", model_filename)\u001b[39;00m\n\u001b[0;32m      9\u001b[0m \u001b[38;5;28;01mdef\u001b[39;00m \u001b[38;5;21mpredict\u001b[39m(has_table_booking, has_online_delivery, is_delivering_now, price_range, votes, average_cost_for_two, cuisine_count):\n",
      "File \u001b[1;32m~\\anaconda3\\Lib\\site-packages\\joblib\\numpy_pickle.py:650\u001b[0m, in \u001b[0;36mload\u001b[1;34m(filename, mmap_mode)\u001b[0m\n\u001b[0;32m    648\u001b[0m         obj \u001b[38;5;241m=\u001b[39m _unpickle(fobj)\n\u001b[0;32m    649\u001b[0m \u001b[38;5;28;01melse\u001b[39;00m:\n\u001b[1;32m--> 650\u001b[0m     \u001b[38;5;28;01mwith\u001b[39;00m \u001b[38;5;28mopen\u001b[39m(filename, \u001b[38;5;124m'\u001b[39m\u001b[38;5;124mrb\u001b[39m\u001b[38;5;124m'\u001b[39m) \u001b[38;5;28;01mas\u001b[39;00m f:\n\u001b[0;32m    651\u001b[0m         \u001b[38;5;28;01mwith\u001b[39;00m _read_fileobject(f, filename, mmap_mode) \u001b[38;5;28;01mas\u001b[39;00m fobj:\n\u001b[0;32m    652\u001b[0m             \u001b[38;5;28;01mif\u001b[39;00m \u001b[38;5;28misinstance\u001b[39m(fobj, \u001b[38;5;28mstr\u001b[39m):\n\u001b[0;32m    653\u001b[0m                 \u001b[38;5;66;03m# if the returned file object is a string, this means we\u001b[39;00m\n\u001b[0;32m    654\u001b[0m                 \u001b[38;5;66;03m# try to load a pickle file generated with an version of\u001b[39;00m\n\u001b[0;32m    655\u001b[0m                 \u001b[38;5;66;03m# Joblib so we load it with joblib compatibility function.\u001b[39;00m\n",
      "\u001b[1;31mFileNotFoundError\u001b[0m: [Errno 2] No such file or directory: 'restaurant_rating_model.pkl'"
     ]
    }
   ],
   "source": [
    "import pandas as pd\n",
    "import joblib\n",
    "\n",
    "# Load your pre-trained model\n",
    "model_filename = \"restaurant_rating_model.pkl\"\n",
    "model = joblib.load(model_filename)\n",
    "# print(\"Model loaded from\", model_filename)\n",
    "\n",
    "def predict(has_table_booking, has_online_delivery, is_delivering_now, price_range, votes, average_cost_for_two, cuisine_count):\n",
    "    \"\"\"\n",
    "    Predicts the restaurant rating based on input parameters and returns whether the restaurant will perform or not.\n",
    "    \n",
    "    Parameters:\n",
    "        has_table_booking (str): \"Yes\" or \"No\"\n",
    "        has_online_delivery (str): \"Yes\" or \"No\"\n",
    "        is_delivering_now (str): \"Yes\" or \"No\"\n",
    "        price_range (int or float): Price range of the restaurant (numeric)\n",
    "        votes (int): Number of votes received\n",
    "        average_cost_for_two (int or float): Average cost for two\n",
    "        cuisine_count (int): Number of cuisines (extracted from a 'Cuisines' column)\n",
    "        \n",
    "    Returns:\n",
    "        tuple: (predicted_rating, performance)\n",
    "               predicted_rating: The numeric rating predicted by the model.\n",
    "               performance: \"Perform\" if rating >= threshold, otherwise \"Not Perform\"\n",
    "    \"\"\"\n",
    "    \n",
    "    # Convert Yes/No inputs to 1/0\n",
    "    table_booking = 1 if has_table_booking.lower() == \"yes\" else 0\n",
    "    online_delivery = 1 if has_online_delivery.lower() == \"yes\" else 0\n",
    "    delivering_now = 1 if is_delivering_now.lower() == \"yes\" else 0\n",
    "    \n",
    "    # Construct a DataFrame for a single sample with the expected feature names\n",
    "    data = {\n",
    "        'Has Table booking': [table_booking],\n",
    "        'Has Online delivery': [online_delivery],\n",
    "        'Is delivering now': [delivering_now],\n",
    "        'Price range': [price_range],\n",
    "        'Votes': [votes],\n",
    "        'Average Cost for two': [average_cost_for_two],\n",
    "        'Cuisine_Count': [cuisine_count]\n",
    "    }\n",
    "    \n",
    "    df = pd.DataFrame(data)\n",
    "    \n",
    "    # Use the loaded model to predict rating\n",
    "    predicted_rating = model.predict(df)[0]\n",
    "    \n",
    "    # Define a threshold rating for good performance\n",
    "    threshold = 3.5\n",
    "    performance = \"Perform\" if predicted_rating >= threshold else \"Not Perform\"\n",
    "    \n",
    "    return predicted_rating, performance\n",
    "\n",
    "# ---------------------------\n",
    "# Test Case\n",
    "# ---------------------------\n",
    "if __name__ == '__main__':\n",
    "    # Sample input parameters:\n",
    "    sample_params = {\n",
    "        \"has_table_booking\": \"Yes\",\n",
    "        \"has_online_delivery\": \"No\",\n",
    "        \"is_delivering_now\": \"yes\",\n",
    "        \"price_range\": 2,\n",
    "        \"votes\": 10,\n",
    "        \"average_cost_for_two\": 100,\n",
    "        \"cuisine_count\": 5\n",
    "    }\n",
    "    \n",
    "    rating, result = predict(**sample_params)\n",
    "    print(\"Predicted Rating:\", rating)\n",
    "    print(\"Restaurant Performance:\", result)"
   ]
  },
  {
   "cell_type": "code",
   "execution_count": null,
   "id": "36e01850-287f-43f3-9a37-942b96e6583d",
   "metadata": {},
   "outputs": [],
   "source": []
  },
  {
   "cell_type": "code",
   "execution_count": null,
   "id": "38359406-3b08-4775-8360-3ba4306d8699",
   "metadata": {},
   "outputs": [],
   "source": []
  },
  {
   "cell_type": "code",
   "execution_count": null,
   "id": "73f10a1e-22e3-4231-b192-a8fde2fe1a73",
   "metadata": {},
   "outputs": [],
   "source": []
  },
  {
   "cell_type": "code",
   "execution_count": null,
   "id": "6b66f7d9-4c34-4430-90be-31098bb4c094",
   "metadata": {},
   "outputs": [],
   "source": []
  }
 ],
 "metadata": {
  "kernelspec": {
   "display_name": "Python 3 (ipykernel)",
   "language": "python",
   "name": "python3"
  },
  "language_info": {
   "codemirror_mode": {
    "name": "ipython",
    "version": 3
   },
   "file_extension": ".py",
   "mimetype": "text/x-python",
   "name": "python",
   "nbconvert_exporter": "python",
   "pygments_lexer": "ipython3",
   "version": "3.12.7"
  }
 },
 "nbformat": 4,
 "nbformat_minor": 5
}
